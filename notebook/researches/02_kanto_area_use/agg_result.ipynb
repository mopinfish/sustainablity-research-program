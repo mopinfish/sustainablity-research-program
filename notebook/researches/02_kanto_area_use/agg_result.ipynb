{
 "cells": [
  {
   "cell_type": "code",
   "execution_count": 15,
   "metadata": {},
   "outputs": [],
   "source": [
    "import pandas as pd"
   ]
  },
  {
   "cell_type": "code",
   "execution_count": 16,
   "metadata": {},
   "outputs": [],
   "source": [
    "stations = pd.read_csv('./stations_with_cluster3.csv')"
   ]
  },
  {
   "cell_type": "code",
   "execution_count": 18,
   "metadata": {},
   "outputs": [
    {
     "data": {
      "text/plain": [
       "Index(['Unnamed: 0', 'Unnamed: 0.1', 'station_cd', 'station_g_cd',\n",
       "       'station_name', 'station_name_k', 'station_name_r', 'line_cd',\n",
       "       'pref_cd', 'post', 'address', 'lon', 'lat', 'open_ymd', 'close_ymd',\n",
       "       'e_status', 'e_sort', 'n', 'm', 'k_avg', 'intersection_count',\n",
       "       'streets_per_node_avg', 'streets_per_node_counts',\n",
       "       'streets_per_node_proportion', 'edge_length_total', 'edge_length_avg',\n",
       "       'street_length_total', 'street_length_avg', 'street_segments_count',\n",
       "       'node_density_km', 'intersection_density_km', 'edge_density_km',\n",
       "       'street_density_km', 'circuity_avg', 'self_loop_proportion',\n",
       "       'clean_intersection_count', 'clean_intersection_density_km',\n",
       "       'station_name_roman', 'cluster_number'],\n",
       "      dtype='object')"
      ]
     },
     "execution_count": 18,
     "metadata": {},
     "output_type": "execute_result"
    }
   ],
   "source": [
    "stations.columns"
   ]
  },
  {
   "cell_type": "code",
   "execution_count": 25,
   "metadata": {},
   "outputs": [],
   "source": [
    "columns = ['n', 'm', 'k_avg', 'intersection_count',\n",
    "       'streets_per_node_avg', 'streets_per_node_counts',\n",
    "       'streets_per_node_proportion', 'edge_length_total', 'edge_length_avg',\n",
    "       'street_length_total', 'street_length_avg', 'street_segments_count',\n",
    "       'node_density_km', 'intersection_density_km', 'edge_density_km',\n",
    "       'street_density_km', 'circuity_avg', 'self_loop_proportion',\n",
    "       'clean_intersection_count', 'clean_intersection_density_km',\n",
    "       'station_name_roman', 'cluster_number']\n",
    "\n",
    "agg = stations[columns].groupby(['cluster_number']).mean()"
   ]
  },
  {
   "cell_type": "code",
   "execution_count": 26,
   "metadata": {},
   "outputs": [
    {
     "data": {
      "text/html": [
       "<div>\n",
       "<style scoped>\n",
       "    .dataframe tbody tr th:only-of-type {\n",
       "        vertical-align: middle;\n",
       "    }\n",
       "\n",
       "    .dataframe tbody tr th {\n",
       "        vertical-align: top;\n",
       "    }\n",
       "\n",
       "    .dataframe thead th {\n",
       "        text-align: right;\n",
       "    }\n",
       "</style>\n",
       "<table border=\"1\" class=\"dataframe\">\n",
       "  <thead>\n",
       "    <tr style=\"text-align: right;\">\n",
       "      <th></th>\n",
       "      <th>n</th>\n",
       "      <th>m</th>\n",
       "      <th>k_avg</th>\n",
       "      <th>intersection_count</th>\n",
       "      <th>streets_per_node_avg</th>\n",
       "      <th>edge_length_total</th>\n",
       "      <th>edge_length_avg</th>\n",
       "      <th>street_length_total</th>\n",
       "      <th>street_length_avg</th>\n",
       "      <th>street_segments_count</th>\n",
       "      <th>node_density_km</th>\n",
       "      <th>intersection_density_km</th>\n",
       "      <th>edge_density_km</th>\n",
       "      <th>street_density_km</th>\n",
       "      <th>circuity_avg</th>\n",
       "      <th>self_loop_proportion</th>\n",
       "      <th>clean_intersection_count</th>\n",
       "      <th>clean_intersection_density_km</th>\n",
       "    </tr>\n",
       "    <tr>\n",
       "      <th>cluster_number</th>\n",
       "      <th></th>\n",
       "      <th></th>\n",
       "      <th></th>\n",
       "      <th></th>\n",
       "      <th></th>\n",
       "      <th></th>\n",
       "      <th></th>\n",
       "      <th></th>\n",
       "      <th></th>\n",
       "      <th></th>\n",
       "      <th></th>\n",
       "      <th></th>\n",
       "      <th></th>\n",
       "      <th></th>\n",
       "      <th></th>\n",
       "      <th></th>\n",
       "      <th></th>\n",
       "      <th></th>\n",
       "    </tr>\n",
       "  </thead>\n",
       "  <tbody>\n",
       "    <tr>\n",
       "      <th>0</th>\n",
       "      <td>433.833333</td>\n",
       "      <td>1181.832000</td>\n",
       "      <td>5.433229</td>\n",
       "      <td>389.813333</td>\n",
       "      <td>2.981474</td>\n",
       "      <td>81715.146560</td>\n",
       "      <td>73.800850</td>\n",
       "      <td>43271.078347</td>\n",
       "      <td>74.620520</td>\n",
       "      <td>618.824000</td>\n",
       "      <td>192.324503</td>\n",
       "      <td>172.655109</td>\n",
       "      <td>36497.795818</td>\n",
       "      <td>19316.533068</td>\n",
       "      <td>1.054881</td>\n",
       "      <td>0.001510</td>\n",
       "      <td>280.161333</td>\n",
       "      <td>124.257807</td>\n",
       "    </tr>\n",
       "    <tr>\n",
       "      <th>1</th>\n",
       "      <td>189.312292</td>\n",
       "      <td>423.677741</td>\n",
       "      <td>4.511976</td>\n",
       "      <td>167.398671</td>\n",
       "      <td>2.927473</td>\n",
       "      <td>36673.326993</td>\n",
       "      <td>115.331781</td>\n",
       "      <td>23639.985478</td>\n",
       "      <td>117.331880</td>\n",
       "      <td>268.029900</td>\n",
       "      <td>107.331319</td>\n",
       "      <td>93.854416</td>\n",
       "      <td>22376.849029</td>\n",
       "      <td>14448.510504</td>\n",
       "      <td>1.075705</td>\n",
       "      <td>0.000826</td>\n",
       "      <td>110.192691</td>\n",
       "      <td>63.126029</td>\n",
       "    </tr>\n",
       "    <tr>\n",
       "      <th>2</th>\n",
       "      <td>841.855705</td>\n",
       "      <td>2206.761745</td>\n",
       "      <td>5.258697</td>\n",
       "      <td>740.372483</td>\n",
       "      <td>2.950632</td>\n",
       "      <td>118509.705065</td>\n",
       "      <td>54.543728</td>\n",
       "      <td>64643.804265</td>\n",
       "      <td>55.076079</td>\n",
       "      <td>1193.176174</td>\n",
       "      <td>344.855455</td>\n",
       "      <td>303.344392</td>\n",
       "      <td>48606.209739</td>\n",
       "      <td>26509.764368</td>\n",
       "      <td>1.038973</td>\n",
       "      <td>0.000493</td>\n",
       "      <td>450.335570</td>\n",
       "      <td>184.564729</td>\n",
       "    </tr>\n",
       "    <tr>\n",
       "      <th>3</th>\n",
       "      <td>710.544271</td>\n",
       "      <td>1612.289062</td>\n",
       "      <td>4.575809</td>\n",
       "      <td>645.244792</td>\n",
       "      <td>3.045284</td>\n",
       "      <td>91457.927831</td>\n",
       "      <td>58.970086</td>\n",
       "      <td>60488.533971</td>\n",
       "      <td>60.405786</td>\n",
       "      <td>1047.690104</td>\n",
       "      <td>300.078776</td>\n",
       "      <td>271.970093</td>\n",
       "      <td>39166.559648</td>\n",
       "      <td>25763.183057</td>\n",
       "      <td>1.032977</td>\n",
       "      <td>0.000280</td>\n",
       "      <td>376.781250</td>\n",
       "      <td>158.920221</td>\n",
       "    </tr>\n",
       "  </tbody>\n",
       "</table>\n",
       "</div>"
      ],
      "text/plain": [
       "                         n            m     k_avg  intersection_count  \\\n",
       "cluster_number                                                          \n",
       "0               433.833333  1181.832000  5.433229          389.813333   \n",
       "1               189.312292   423.677741  4.511976          167.398671   \n",
       "2               841.855705  2206.761745  5.258697          740.372483   \n",
       "3               710.544271  1612.289062  4.575809          645.244792   \n",
       "\n",
       "                streets_per_node_avg  edge_length_total  edge_length_avg  \\\n",
       "cluster_number                                                             \n",
       "0                           2.981474       81715.146560        73.800850   \n",
       "1                           2.927473       36673.326993       115.331781   \n",
       "2                           2.950632      118509.705065        54.543728   \n",
       "3                           3.045284       91457.927831        58.970086   \n",
       "\n",
       "                street_length_total  street_length_avg  street_segments_count  \\\n",
       "cluster_number                                                                  \n",
       "0                      43271.078347          74.620520             618.824000   \n",
       "1                      23639.985478         117.331880             268.029900   \n",
       "2                      64643.804265          55.076079            1193.176174   \n",
       "3                      60488.533971          60.405786            1047.690104   \n",
       "\n",
       "                node_density_km  intersection_density_km  edge_density_km  \\\n",
       "cluster_number                                                              \n",
       "0                    192.324503               172.655109     36497.795818   \n",
       "1                    107.331319                93.854416     22376.849029   \n",
       "2                    344.855455               303.344392     48606.209739   \n",
       "3                    300.078776               271.970093     39166.559648   \n",
       "\n",
       "                street_density_km  circuity_avg  self_loop_proportion  \\\n",
       "cluster_number                                                          \n",
       "0                    19316.533068      1.054881              0.001510   \n",
       "1                    14448.510504      1.075705              0.000826   \n",
       "2                    26509.764368      1.038973              0.000493   \n",
       "3                    25763.183057      1.032977              0.000280   \n",
       "\n",
       "                clean_intersection_count  clean_intersection_density_km  \n",
       "cluster_number                                                           \n",
       "0                             280.161333                     124.257807  \n",
       "1                             110.192691                      63.126029  \n",
       "2                             450.335570                     184.564729  \n",
       "3                             376.781250                     158.920221  "
      ]
     },
     "execution_count": 26,
     "metadata": {},
     "output_type": "execute_result"
    }
   ],
   "source": [
    "agg.head()"
   ]
  },
  {
   "cell_type": "code",
   "execution_count": 13,
   "metadata": {},
   "outputs": [
    {
     "data": {
      "text/plain": [
       "4"
      ]
     },
     "execution_count": 13,
     "metadata": {},
     "output_type": "execute_result"
    }
   ],
   "source": [
    "len(agg)"
   ]
  },
  {
   "cell_type": "code",
   "execution_count": 29,
   "metadata": {},
   "outputs": [],
   "source": [
    "agg.to_csv('./agg.csv')"
   ]
  },
  {
   "cell_type": "code",
   "execution_count": null,
   "metadata": {},
   "outputs": [],
   "source": []
  },
  {
   "cell_type": "code",
   "execution_count": null,
   "metadata": {},
   "outputs": [],
   "source": []
  },
  {
   "cell_type": "code",
   "execution_count": null,
   "metadata": {},
   "outputs": [],
   "source": []
  },
  {
   "cell_type": "code",
   "execution_count": null,
   "metadata": {},
   "outputs": [],
   "source": []
  }
 ],
 "metadata": {
  "kernelspec": {
   "display_name": "Python 3",
   "language": "python",
   "name": "python3"
  },
  "language_info": {
   "codemirror_mode": {
    "name": "ipython",
    "version": 3
   },
   "file_extension": ".py",
   "mimetype": "text/x-python",
   "name": "python",
   "nbconvert_exporter": "python",
   "pygments_lexer": "ipython3",
   "version": "3.9.4"
  }
 },
 "nbformat": 4,
 "nbformat_minor": 4
}
