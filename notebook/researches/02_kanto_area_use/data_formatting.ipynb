{
 "cells": [
  {
   "cell_type": "code",
   "execution_count": 1,
   "metadata": {},
   "outputs": [],
   "source": [
    "import pandas as pd\n",
    "import geopandas as gpd"
   ]
  },
  {
   "cell_type": "code",
   "execution_count": 2,
   "metadata": {},
   "outputs": [
    {
     "data": {
      "text/html": [
       "<div>\n",
       "<style scoped>\n",
       "    .dataframe tbody tr th:only-of-type {\n",
       "        vertical-align: middle;\n",
       "    }\n",
       "\n",
       "    .dataframe tbody tr th {\n",
       "        vertical-align: top;\n",
       "    }\n",
       "\n",
       "    .dataframe thead th {\n",
       "        text-align: right;\n",
       "    }\n",
       "</style>\n",
       "<table border=\"1\" class=\"dataframe\">\n",
       "  <thead>\n",
       "    <tr style=\"text-align: right;\">\n",
       "      <th></th>\n",
       "      <th>administrative_area_code</th>\n",
       "      <th>prefecture_name</th>\n",
       "      <th>city_name</th>\n",
       "      <th>use_area_type</th>\n",
       "      <th>use_area_name</th>\n",
       "      <th>building_coverage_ratio</th>\n",
       "      <th>floor_area_ratio</th>\n",
       "      <th>organization_name</th>\n",
       "      <th>created_at</th>\n",
       "      <th>notes</th>\n",
       "      <th>geometry</th>\n",
       "    </tr>\n",
       "  </thead>\n",
       "  <tbody>\n",
       "    <tr>\n",
       "      <th>0</th>\n",
       "      <td>12208</td>\n",
       "      <td>千葉県</td>\n",
       "      <td>野田市</td>\n",
       "      <td>6</td>\n",
       "      <td>第二種住居地域</td>\n",
       "      <td>60</td>\n",
       "      <td>200</td>\n",
       "      <td>野田市</td>\n",
       "      <td>2010</td>\n",
       "      <td>None</td>\n",
       "      <td>POLYGON ((139.88982 35.91527, 139.88966 35.915...</td>\n",
       "    </tr>\n",
       "    <tr>\n",
       "      <th>1</th>\n",
       "      <td>12208</td>\n",
       "      <td>千葉県</td>\n",
       "      <td>野田市</td>\n",
       "      <td>1</td>\n",
       "      <td>第一種低層住居専用地域</td>\n",
       "      <td>50</td>\n",
       "      <td>100</td>\n",
       "      <td>野田市</td>\n",
       "      <td>2010</td>\n",
       "      <td>None</td>\n",
       "      <td>POLYGON ((139.88839 35.91803, 139.88679 35.917...</td>\n",
       "    </tr>\n",
       "    <tr>\n",
       "      <th>2</th>\n",
       "      <td>12208</td>\n",
       "      <td>千葉県</td>\n",
       "      <td>野田市</td>\n",
       "      <td>3</td>\n",
       "      <td>第一種中高層住居専用地域</td>\n",
       "      <td>60</td>\n",
       "      <td>200</td>\n",
       "      <td>野田市</td>\n",
       "      <td>2010</td>\n",
       "      <td>None</td>\n",
       "      <td>POLYGON ((139.91568 35.91987, 139.91539 35.919...</td>\n",
       "    </tr>\n",
       "    <tr>\n",
       "      <th>3</th>\n",
       "      <td>12208</td>\n",
       "      <td>千葉県</td>\n",
       "      <td>野田市</td>\n",
       "      <td>3</td>\n",
       "      <td>第一種中高層住居専用地域</td>\n",
       "      <td>60</td>\n",
       "      <td>200</td>\n",
       "      <td>野田市</td>\n",
       "      <td>2010</td>\n",
       "      <td>None</td>\n",
       "      <td>POLYGON ((139.88792 35.92221, 139.88829 35.921...</td>\n",
       "    </tr>\n",
       "    <tr>\n",
       "      <th>4</th>\n",
       "      <td>12208</td>\n",
       "      <td>千葉県</td>\n",
       "      <td>野田市</td>\n",
       "      <td>6</td>\n",
       "      <td>第二種住居地域</td>\n",
       "      <td>60</td>\n",
       "      <td>200</td>\n",
       "      <td>野田市</td>\n",
       "      <td>2010</td>\n",
       "      <td>None</td>\n",
       "      <td>POLYGON ((139.88524 35.92283, 139.88366 35.921...</td>\n",
       "    </tr>\n",
       "  </tbody>\n",
       "</table>\n",
       "</div>"
      ],
      "text/plain": [
       "  administrative_area_code prefecture_name city_name  use_area_type  \\\n",
       "0                    12208             千葉県       野田市              6   \n",
       "1                    12208             千葉県       野田市              1   \n",
       "2                    12208             千葉県       野田市              3   \n",
       "3                    12208             千葉県       野田市              3   \n",
       "4                    12208             千葉県       野田市              6   \n",
       "\n",
       "  use_area_name  building_coverage_ratio  floor_area_ratio organization_name  \\\n",
       "0       第二種住居地域                       60               200               野田市   \n",
       "1   第一種低層住居専用地域                       50               100               野田市   \n",
       "2  第一種中高層住居専用地域                       60               200               野田市   \n",
       "3  第一種中高層住居専用地域                       60               200               野田市   \n",
       "4       第二種住居地域                       60               200               野田市   \n",
       "\n",
       "   created_at notes                                           geometry  \n",
       "0        2010  None  POLYGON ((139.88982 35.91527, 139.88966 35.915...  \n",
       "1        2010  None  POLYGON ((139.88839 35.91803, 139.88679 35.917...  \n",
       "2        2010  None  POLYGON ((139.91568 35.91987, 139.91539 35.919...  \n",
       "3        2010  None  POLYGON ((139.88792 35.92221, 139.88829 35.921...  \n",
       "4        2010  None  POLYGON ((139.88524 35.92283, 139.88366 35.921...  "
      ]
     },
     "execution_count": 2,
     "metadata": {},
     "output_type": "execute_result"
    }
   ],
   "source": [
    "use_area = gpd.read_file('kanto.geojson', encoding=\"utf-8\")\n",
    "use_area.head()"
   ]
  },
  {
   "cell_type": "code",
   "execution_count": 3,
   "metadata": {},
   "outputs": [],
   "source": [
    "import folium\n",
    "center_lat, center_lon = (35.6809591, 139.7673068) # 東京駅\n",
    "\n",
    "m = folium.Map(\n",
    "    location=[center_lat, center_lon],\n",
    "    zoom_start=12,\n",
    "    width=800, \n",
    "    height=600, \n",
    "    tiles='openstreetmap') # マップ作成\n",
    "folium.GeoJson('./kanto.geojson', name='region_name',\n",
    "              style_function = lambda x: {\n",
    "                                        'fillOpacity': 0.3,\n",
    "                                        'fillColor': 'green' if x['properties']['use_area_type'] < 8 else 'orange' if x['properties']['use_area_type'] < 10 else 'gray' if x['properties']['use_area_type'] < 13 else 'red',\n",
    "                                        'color': 'gray',\n",
    "                                        'weight': 1,\n",
    "                                        'popup': x['properties']['use_area_name']\n",
    "              }).add_to(m)\n",
    "\n",
    "folium.LayerControl().add_to(m) # 地図表示切替ボタン\n",
    "m.save('area_use.html') # 保存"
   ]
  },
  {
   "cell_type": "code",
   "execution_count": 4,
   "metadata": {},
   "outputs": [],
   "source": [
    "stations_with_cluster = pd.read_csv('./stations_with_cluster3.csv')"
   ]
  },
  {
   "cell_type": "code",
   "execution_count": 8,
   "metadata": {},
   "outputs": [
    {
     "data": {
      "text/plain": [
       "0    750\n",
       "2    596\n",
       "3    384\n",
       "1    301\n",
       "Name: cluster_number, dtype: int64"
      ]
     },
     "execution_count": 8,
     "metadata": {},
     "output_type": "execute_result"
    }
   ],
   "source": [
    "stations_with_cluster['cluster_number'].value_counts()"
   ]
  },
  {
   "cell_type": "code",
   "execution_count": 6,
   "metadata": {},
   "outputs": [],
   "source": [
    "for _, station in stations_with_cluster.iterrows():\n",
    "    color = 'pink' if station['cluster_number'] == 0 else 'blue' if station['cluster_number'] == 1 else 'red' if station['cluster_number'] == 2 else 'green' if station['cluster_number'] == 3 else 'orange'\n",
    "    folium.Marker([station.lat, station.lon], popup=str(station['station_name_roman']), icon=folium.Icon(color=color)).add_to(m)"
   ]
  },
  {
   "cell_type": "code",
   "execution_count": 9,
   "metadata": {},
   "outputs": [],
   "source": [
    "m.save('area_use_and_stations.html') # 保存"
   ]
  },
  {
   "cell_type": "code",
   "execution_count": null,
   "metadata": {},
   "outputs": [],
   "source": []
  }
 ],
 "metadata": {
  "kernelspec": {
   "display_name": "Python 3",
   "language": "python",
   "name": "python3"
  },
  "language_info": {
   "codemirror_mode": {
    "name": "ipython",
    "version": 3
   },
   "file_extension": ".py",
   "mimetype": "text/x-python",
   "name": "python",
   "nbconvert_exporter": "python",
   "pygments_lexer": "ipython3",
   "version": "3.9.4"
  }
 },
 "nbformat": 4,
 "nbformat_minor": 4
}
