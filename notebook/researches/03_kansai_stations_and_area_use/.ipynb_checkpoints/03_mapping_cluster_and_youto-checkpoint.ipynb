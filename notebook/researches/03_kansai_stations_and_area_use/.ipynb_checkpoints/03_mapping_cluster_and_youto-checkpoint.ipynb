{
 "cells": [
  {
   "cell_type": "code",
   "execution_count": 1,
   "metadata": {},
   "outputs": [],
   "source": [
    "import pandas as pd\n",
    "import geopandas as gpd"
   ]
  },
  {
   "cell_type": "code",
   "execution_count": null,
   "metadata": {},
   "outputs": [],
   "source": [
    "use_area = gpd.read_file('youto_kansai.geojson', encoding=\"utf-8\")\n",
    "use_area.head()"
   ]
  },
  {
   "cell_type": "code",
   "execution_count": 3,
   "metadata": {},
   "outputs": [],
   "source": [
    "import folium\n",
    "center_lat, center_lon = (34.6413, 135.5629) # 大阪の緯度経度\n",
    "\n",
    "m = folium.Map(\n",
    "    location=[center_lat, center_lon],\n",
    "    zoom_start=12,\n",
    "    width=800, \n",
    "    height=600, \n",
    "    tiles='openstreetmap') # マップ作成\n",
    "folium.GeoJson('./youto_kansai.geojson', name='region_name',\n",
    "              style_function = lambda x: {\n",
    "                                        'fillOpacity': 0.3,\n",
    "                                        'fillColor': 'green' if x['properties']['use_area_type'] < 8 else 'orange' if x['properties']['use_area_type'] < 10 else 'gray' if x['properties']['use_area_type'] < 13 else 'red',\n",
    "                                        'color': 'gray',\n",
    "                                        'weight': 1,\n",
    "                                        'popup': x['properties']['use_area_name']\n",
    "              }).add_to(m)\n",
    "\n",
    "folium.LayerControl().add_to(m) # 地図表示切替ボタン\n",
    "m.save('area_use.html') # 保存"
   ]
  },
  {
   "cell_type": "code",
   "execution_count": 5,
   "metadata": {},
   "outputs": [],
   "source": [
    "stations_with_cluster = pd.read_csv('../data/kansai_stations_with_cluster.csv')"
   ]
  },
  {
   "cell_type": "code",
   "execution_count": 6,
   "metadata": {},
   "outputs": [],
   "source": [
    "for _, station in stations_with_cluster.iterrows():\n",
    "    color = 'pink' if station['cluster_number'] == 0 else 'blue' if station['cluster_number'] == 1 else 'red' if station['cluster_number'] == 2 else 'green' if station['cluster_number'] == 3 else 'orange'\n",
    "    folium.Marker([station.lat, station.lon], popup=str(station['station_name_roman']), icon=folium.Icon(color=color)).add_to(m)"
   ]
  },
  {
   "cell_type": "code",
   "execution_count": 9,
   "metadata": {},
   "outputs": [],
   "source": [
    "m.save('area_use_and_stations.html') # 保存"
   ]
  },
  {
   "cell_type": "code",
   "execution_count": null,
   "metadata": {},
   "outputs": [],
   "source": []
  }
 ],
 "metadata": {
  "kernelspec": {
   "display_name": "Python 3",
   "language": "python",
   "name": "python3"
  },
  "language_info": {
   "codemirror_mode": {
    "name": "ipython",
    "version": 3
   },
   "file_extension": ".py",
   "mimetype": "text/x-python",
   "name": "python",
   "nbconvert_exporter": "python",
   "pygments_lexer": "ipython3",
   "version": "3.9.4"
  }
 },
 "nbformat": 4,
 "nbformat_minor": 4
}
