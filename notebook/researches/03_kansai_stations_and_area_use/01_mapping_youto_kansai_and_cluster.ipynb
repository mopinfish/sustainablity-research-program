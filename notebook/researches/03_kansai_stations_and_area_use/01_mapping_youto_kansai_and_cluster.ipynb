{
 "cells": [
  {
   "cell_type": "code",
   "execution_count": 16,
   "metadata": {},
   "outputs": [],
   "source": [
    "import pandas as pd\n",
    "import geopandas as gpd"
   ]
  },
  {
   "cell_type": "code",
   "execution_count": 17,
   "metadata": {},
   "outputs": [
    {
     "data": {
      "text/html": [
       "<div>\n",
       "<style scoped>\n",
       "    .dataframe tbody tr th:only-of-type {\n",
       "        vertical-align: middle;\n",
       "    }\n",
       "\n",
       "    .dataframe tbody tr th {\n",
       "        vertical-align: top;\n",
       "    }\n",
       "\n",
       "    .dataframe thead th {\n",
       "        text-align: right;\n",
       "    }\n",
       "</style>\n",
       "<table border=\"1\" class=\"dataframe\">\n",
       "  <thead>\n",
       "    <tr style=\"text-align: right;\">\n",
       "      <th></th>\n",
       "      <th>administrative_area_code</th>\n",
       "      <th>prefecture_name</th>\n",
       "      <th>city_name</th>\n",
       "      <th>use_area_type</th>\n",
       "      <th>use_area_name</th>\n",
       "      <th>building_coverage_ratio</th>\n",
       "      <th>floor_area_ratio</th>\n",
       "      <th>organization_name</th>\n",
       "      <th>created_at</th>\n",
       "      <th>notes</th>\n",
       "      <th>geometry</th>\n",
       "    </tr>\n",
       "  </thead>\n",
       "  <tbody>\n",
       "    <tr>\n",
       "      <th>0</th>\n",
       "      <td>28108</td>\n",
       "      <td>兵庫県</td>\n",
       "      <td>神戸市垂水区</td>\n",
       "      <td>8</td>\n",
       "      <td>近隣商業地域</td>\n",
       "      <td>80</td>\n",
       "      <td>200</td>\n",
       "      <td>神戸市</td>\n",
       "      <td>2010</td>\n",
       "      <td>None</td>\n",
       "      <td>POLYGON ((135.04644 34.62534, 135.04648 34.625...</td>\n",
       "    </tr>\n",
       "    <tr>\n",
       "      <th>1</th>\n",
       "      <td>28108</td>\n",
       "      <td>兵庫県</td>\n",
       "      <td>神戸市垂水区</td>\n",
       "      <td>10</td>\n",
       "      <td>準工業地域</td>\n",
       "      <td>60</td>\n",
       "      <td>200</td>\n",
       "      <td>神戸市</td>\n",
       "      <td>2010</td>\n",
       "      <td>None</td>\n",
       "      <td>POLYGON ((135.05795 34.62698, 135.05799 34.626...</td>\n",
       "    </tr>\n",
       "    <tr>\n",
       "      <th>2</th>\n",
       "      <td>28108</td>\n",
       "      <td>兵庫県</td>\n",
       "      <td>神戸市垂水区</td>\n",
       "      <td>8</td>\n",
       "      <td>近隣商業地域</td>\n",
       "      <td>80</td>\n",
       "      <td>300</td>\n",
       "      <td>神戸市</td>\n",
       "      <td>2010</td>\n",
       "      <td>None</td>\n",
       "      <td>POLYGON ((135.05748 34.62948, 135.05744 34.628...</td>\n",
       "    </tr>\n",
       "    <tr>\n",
       "      <th>3</th>\n",
       "      <td>28108</td>\n",
       "      <td>兵庫県</td>\n",
       "      <td>神戸市垂水区</td>\n",
       "      <td>3</td>\n",
       "      <td>第一種中高層住居専用地域</td>\n",
       "      <td>60</td>\n",
       "      <td>200</td>\n",
       "      <td>神戸市</td>\n",
       "      <td>2010</td>\n",
       "      <td>None</td>\n",
       "      <td>POLYGON ((135.06176 34.63022, 135.06174 34.630...</td>\n",
       "    </tr>\n",
       "    <tr>\n",
       "      <th>4</th>\n",
       "      <td>28108</td>\n",
       "      <td>兵庫県</td>\n",
       "      <td>神戸市垂水区</td>\n",
       "      <td>9</td>\n",
       "      <td>商業地域</td>\n",
       "      <td>80</td>\n",
       "      <td>500</td>\n",
       "      <td>神戸市</td>\n",
       "      <td>2010</td>\n",
       "      <td>None</td>\n",
       "      <td>POLYGON ((135.05173 34.62926, 135.05148 34.629...</td>\n",
       "    </tr>\n",
       "  </tbody>\n",
       "</table>\n",
       "</div>"
      ],
      "text/plain": [
       "  administrative_area_code prefecture_name city_name  use_area_type  \\\n",
       "0                    28108             兵庫県    神戸市垂水区              8   \n",
       "1                    28108             兵庫県    神戸市垂水区             10   \n",
       "2                    28108             兵庫県    神戸市垂水区              8   \n",
       "3                    28108             兵庫県    神戸市垂水区              3   \n",
       "4                    28108             兵庫県    神戸市垂水区              9   \n",
       "\n",
       "  use_area_name  building_coverage_ratio  floor_area_ratio organization_name  \\\n",
       "0        近隣商業地域                       80               200               神戸市   \n",
       "1         準工業地域                       60               200               神戸市   \n",
       "2        近隣商業地域                       80               300               神戸市   \n",
       "3  第一種中高層住居専用地域                       60               200               神戸市   \n",
       "4          商業地域                       80               500               神戸市   \n",
       "\n",
       "   created_at notes                                           geometry  \n",
       "0        2010  None  POLYGON ((135.04644 34.62534, 135.04648 34.625...  \n",
       "1        2010  None  POLYGON ((135.05795 34.62698, 135.05799 34.626...  \n",
       "2        2010  None  POLYGON ((135.05748 34.62948, 135.05744 34.628...  \n",
       "3        2010  None  POLYGON ((135.06176 34.63022, 135.06174 34.630...  \n",
       "4        2010  None  POLYGON ((135.05173 34.62926, 135.05148 34.629...  "
      ]
     },
     "execution_count": 17,
     "metadata": {},
     "output_type": "execute_result"
    }
   ],
   "source": [
    "use_area = gpd.read_file('youto_kansai.geojson', encoding=\"utf-8\")\n",
    "use_area.head()"
   ]
  },
  {
   "cell_type": "code",
   "execution_count": 18,
   "metadata": {},
   "outputs": [],
   "source": [
    "import folium\n",
    "center_lat, center_lon = (34.6413, 135.5629) # 大阪の緯度経度\n",
    "\n",
    "m = folium.Map(\n",
    "    location=[center_lat, center_lon],\n",
    "    zoom_start=12,\n",
    "    width=800, \n",
    "    height=600, \n",
    "    tiles='openstreetmap') # マップ作成\n",
    "\n",
    "folium.GeoJson('youto_kansai.geojson', name='region_name',\n",
    "              style_function = lambda x: {\n",
    "                                        'fillOpacity': 0.3,\n",
    "                                        'fillColor': 'green' if x['properties']['use_area_type'] < 8 else 'orange' if x['properties']['use_area_type'] < 10 else 'gray' if x['properties']['use_area_type'] < 13 else 'red',\n",
    "                                        'color': 'gray',\n",
    "                                        'weight': 1,\n",
    "                                        'popup': x['properties']['use_area_name']\n",
    "              }).add_to(m)\n",
    "\n",
    "folium.LayerControl().add_to(m) # 地図表示切替ボタン\n",
    "m.save('area_use_kansai.html') # 保存"
   ]
  },
  {
   "cell_type": "code",
   "execution_count": 5,
   "metadata": {},
   "outputs": [],
   "source": [
    "stations_with_cluster = pd.read_csv('./stations_with_cluster3.csv')"
   ]
  },
  {
   "cell_type": "code",
   "execution_count": 6,
   "metadata": {},
   "outputs": [],
   "source": [
    "for _, station in stations_with_cluster.iterrows():\n",
    "    color = 'pink' if station['cluster_number'] == 0 else 'blue' if station['cluster_number'] == 1 else 'red' if station['cluster_number'] == 2 else 'green' if station['cluster_number'] == 3 else 'orange'\n",
    "    folium.Marker([station.lat, station.lon], popup=str(station['station_name_roman']), icon=folium.Icon(color=color)).add_to(m)"
   ]
  },
  {
   "cell_type": "code",
   "execution_count": 9,
   "metadata": {},
   "outputs": [],
   "source": [
    "m.save('area_use_and_stations.html') # 保存"
   ]
  },
  {
   "cell_type": "code",
   "execution_count": null,
   "metadata": {},
   "outputs": [],
   "source": []
  }
 ],
 "metadata": {
  "kernelspec": {
   "display_name": "Python 3",
   "language": "python",
   "name": "python3"
  },
  "language_info": {
   "codemirror_mode": {
    "name": "ipython",
    "version": 3
   },
   "file_extension": ".py",
   "mimetype": "text/x-python",
   "name": "python",
   "nbconvert_exporter": "python",
   "pygments_lexer": "ipython3",
   "version": "3.9.4"
  }
 },
 "nbformat": 4,
 "nbformat_minor": 4
}
