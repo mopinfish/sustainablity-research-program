{
 "cells": [
  {
   "cell_type": "code",
   "execution_count": 7,
   "id": "7b4c3405-8c95-40a7-9f24-49cb53ad028e",
   "metadata": {},
   "outputs": [],
   "source": [
    "import numpy as np\n",
    "import pandas as pd\n"
   ]
  },
  {
   "cell_type": "code",
   "execution_count": 2,
   "id": "9b6b8861-d386-4eb2-8bf3-c6e633ae632a",
   "metadata": {},
   "outputs": [],
   "source": [
    "kanto = pd.read_csv('../data/kanto_stations_with_3clusters.csv')\n",
    "kansai = pd.read_csv('../data/kansai_stations_with_cluster3.csv')\n",
    "kanto_pca = pd.read_csv('../data/kanto_stations_pca.csv')\n",
    "kansai_pca = pd.read_csv('../data/kansai_stations_pca.csv')"
   ]
  },
  {
   "cell_type": "code",
   "execution_count": 3,
   "id": "ba2d347e-2f7d-49de-ac9c-89278a2bd52c",
   "metadata": {},
   "outputs": [
    {
     "data": {
      "text/html": [
       "<div>\n",
       "<style scoped>\n",
       "    .dataframe tbody tr th:only-of-type {\n",
       "        vertical-align: middle;\n",
       "    }\n",
       "\n",
       "    .dataframe tbody tr th {\n",
       "        vertical-align: top;\n",
       "    }\n",
       "\n",
       "    .dataframe thead th {\n",
       "        text-align: right;\n",
       "    }\n",
       "</style>\n",
       "<table border=\"1\" class=\"dataframe\">\n",
       "  <thead>\n",
       "    <tr style=\"text-align: right;\">\n",
       "      <th></th>\n",
       "      <th>pc1</th>\n",
       "      <th>pc2</th>\n",
       "    </tr>\n",
       "  </thead>\n",
       "  <tbody>\n",
       "    <tr>\n",
       "      <th>0</th>\n",
       "      <td>-0.932476</td>\n",
       "      <td>0.728841</td>\n",
       "    </tr>\n",
       "    <tr>\n",
       "      <th>1</th>\n",
       "      <td>-1.186589</td>\n",
       "      <td>-0.635504</td>\n",
       "    </tr>\n",
       "    <tr>\n",
       "      <th>2</th>\n",
       "      <td>0.137028</td>\n",
       "      <td>-0.274607</td>\n",
       "    </tr>\n",
       "    <tr>\n",
       "      <th>3</th>\n",
       "      <td>0.468508</td>\n",
       "      <td>-1.378730</td>\n",
       "    </tr>\n",
       "    <tr>\n",
       "      <th>4</th>\n",
       "      <td>0.902938</td>\n",
       "      <td>-0.362098</td>\n",
       "    </tr>\n",
       "  </tbody>\n",
       "</table>\n",
       "</div>"
      ],
      "text/plain": [
       "        pc1       pc2\n",
       "0 -0.932476  0.728841\n",
       "1 -1.186589 -0.635504\n",
       "2  0.137028 -0.274607\n",
       "3  0.468508 -1.378730\n",
       "4  0.902938 -0.362098"
      ]
     },
     "execution_count": 3,
     "metadata": {},
     "output_type": "execute_result"
    }
   ],
   "source": [
    "kanto_pca.head()"
   ]
  },
  {
   "cell_type": "code",
   "execution_count": 49,
   "id": "7415b2e0-5d5f-403a-b73e-6d7531efe419",
   "metadata": {},
   "outputs": [],
   "source": []
  },
  {
   "cell_type": "code",
   "execution_count": 55,
   "id": "c711222f-a6c4-4faf-8b4e-44ae8169104f",
   "metadata": {},
   "outputs": [],
   "source": []
  },
  {
   "cell_type": "code",
   "execution_count": null,
   "id": "a8619673-dd62-4404-bf55-339547d1a941",
   "metadata": {},
   "outputs": [],
   "source": []
  },
  {
   "cell_type": "code",
   "execution_count": 4,
   "id": "b866480d-e6f8-44e7-b04f-58faa78c3f22",
   "metadata": {},
   "outputs": [],
   "source": [
    "kanto_stations = kanto.join(kanto_pca)\n",
    "kanto_stations = kanto_stations.drop('Unnamed: 0', axis=1)\n",
    "kanto_stations = kanto_stations.drop('Unnamed: 0.1', axis=1)\n",
    "kanto_stations = kanto_stations.drop('station_name_roman', axis=1)"
   ]
  },
  {
   "cell_type": "code",
   "execution_count": 5,
   "id": "6fd0af0f-d858-46cc-bd89-dba2a7abf2fd",
   "metadata": {},
   "outputs": [],
   "source": [
    "stations = pd.read_csv('../../../data/stations.csv')\n",
    "\n",
    "roman = stations[['station_cd', 'station_name_roman']]\n",
    "\n",
    "kanto_stations = pd.merge(kanto_stations, roman, on='station_cd', how='left')"
   ]
  },
  {
   "cell_type": "code",
   "execution_count": 6,
   "id": "9e014198-d366-4d19-b8b0-09bf74afd973",
   "metadata": {},
   "outputs": [
    {
     "data": {
      "text/plain": [
       "2031"
      ]
     },
     "execution_count": 6,
     "metadata": {},
     "output_type": "execute_result"
    }
   ],
   "source": [
    "len(kanto_stations)"
   ]
  },
  {
   "cell_type": "code",
   "execution_count": 7,
   "id": "36441510-4053-4967-8c0d-22dfb9a66bf3",
   "metadata": {},
   "outputs": [
    {
     "data": {
      "text/plain": [
       "Index(['station_cd', 'station_g_cd', 'station_name', 'station_name_k',\n",
       "       'station_name_r', 'line_cd', 'pref_cd', 'post', 'address', 'lon', 'lat',\n",
       "       'open_ymd', 'close_ymd', 'e_status', 'e_sort', 'station_name_roman'],\n",
       "      dtype='object')"
      ]
     },
     "execution_count": 7,
     "metadata": {},
     "output_type": "execute_result"
    }
   ],
   "source": [
    "stations.columns"
   ]
  },
  {
   "cell_type": "code",
   "execution_count": 8,
   "id": "888e009b-3f54-4a30-943c-7c438af4819c",
   "metadata": {},
   "outputs": [],
   "source": [
    "kansai_stations = kansai.join(kansai_pca)"
   ]
  },
  {
   "cell_type": "code",
   "execution_count": 9,
   "id": "e40db365-03ef-4b73-af6e-5971e47de103",
   "metadata": {},
   "outputs": [
    {
     "data": {
      "text/plain": [
       "Index(['station_cd', 'station_g_cd', 'station_name', 'station_name_k',\n",
       "       'station_name_r', 'line_cd', 'pref_cd', 'post', 'address', 'lon', 'lat',\n",
       "       'open_ymd', 'close_ymd', 'e_status', 'e_sort', 'n', 'm', 'k_avg',\n",
       "       'intersection_count', 'streets_per_node_avg', 'streets_per_node_counts',\n",
       "       'streets_per_node_proportion', 'edge_length_total', 'edge_length_avg',\n",
       "       'street_length_total', 'street_length_avg', 'street_segments_count',\n",
       "       'node_density_km', 'intersection_density_km', 'edge_density_km',\n",
       "       'street_density_km', 'circuity_avg', 'self_loop_proportion',\n",
       "       'clean_intersection_count', 'clean_intersection_density_km',\n",
       "       'cluster_number', 'pc1', 'pc2', 'station_name_roman'],\n",
       "      dtype='object')"
      ]
     },
     "execution_count": 9,
     "metadata": {},
     "output_type": "execute_result"
    }
   ],
   "source": [
    "kanto_stations.columns"
   ]
  },
  {
   "cell_type": "code",
   "execution_count": 10,
   "id": "6ae88fcf-abfa-4aea-8d95-322ad5694aa1",
   "metadata": {},
   "outputs": [],
   "source": [
    "kanto_stations.to_csv('./kanto.csv', index=False)"
   ]
  },
  {
   "cell_type": "code",
   "execution_count": 11,
   "id": "b18bf9ec-f9be-47af-88c0-b760260e4138",
   "metadata": {},
   "outputs": [],
   "source": [
    "kansai_stations.to_csv('./kansai.csv', index=False)"
   ]
  },
  {
   "cell_type": "code",
   "execution_count": null,
   "id": "8519d6ea-804f-4c64-894f-c7ea5ab96766",
   "metadata": {},
   "outputs": [],
   "source": []
  },
  {
   "cell_type": "code",
   "execution_count": 2,
   "id": "3e76a243-5aa5-4f4b-8735-50aac827f1a8",
   "metadata": {},
   "outputs": [],
   "source": [
    "kanto_stations = pd.read_csv('./kanto.csv')\n",
    "kansai_stations = pd.read_csv('./kansai.csv')"
   ]
  },
  {
   "cell_type": "code",
   "execution_count": 3,
   "id": "381f3845-853d-4687-bfe3-22ba3f467831",
   "metadata": {},
   "outputs": [
    {
     "data": {
      "text/plain": [
       "<folium.map.LayerControl at 0x7fa42e0ffb20>"
      ]
     },
     "execution_count": 3,
     "metadata": {},
     "output_type": "execute_result"
    }
   ],
   "source": [
    "import folium\n",
    "#center_lat, center_lon = (35.6809591, 139.7673068) # 東京駅\n",
    "center_lat, center_lon = (34.6413, 135.5629) # 大阪の緯度経度\n",
    "\n",
    "m = folium.Map(\n",
    "    location=[center_lat, center_lon],\n",
    "    zoom_start=12,\n",
    "    width=800, \n",
    "    height=600, \n",
    "    tiles='openstreetmap') # マップ作成\n",
    "\n",
    "folium.GeoJson('../data/kanto.geojson', name='region_name',\n",
    "              style_function = lambda x: {\n",
    "                                        'fillOpacity': 0.3,\n",
    "                                        'fillColor': 'green' if x['properties']['use_area_type'] < 8 else 'orange' if x['properties']['use_area_type'] < 10 else 'gray' if x['properties']['use_area_type'] < 13 else 'red',\n",
    "                                        'color': 'gray',\n",
    "                                        'weight': 1,\n",
    "                                        'popup': x['properties']['use_area_name']\n",
    "              }).add_to(m)\n",
    "\n",
    "folium.GeoJson('../data/kansai.geojson', name='region_name',\n",
    "              style_function = lambda x: {\n",
    "                                        'fillOpacity': 0.3,\n",
    "                                        'fillColor': 'green' if x['properties']['use_area_type'] < 8 else 'orange' if x['properties']['use_area_type'] < 10 else 'gray' if x['properties']['use_area_type'] < 13 else 'red',\n",
    "                                        'color': 'gray',\n",
    "                                        'weight': 1,\n",
    "                                        'popup': x['properties']['use_area_name']\n",
    "              }).add_to(m)\n",
    "\n",
    "folium.LayerControl().add_to(m) # 地図表示切替ボタン\n"
   ]
  },
  {
   "cell_type": "code",
   "execution_count": 4,
   "id": "a403ae25-d703-463f-8d36-91974c1f501b",
   "metadata": {},
   "outputs": [],
   "source": [
    "for _, station in kanto_stations.iterrows():\n",
    "    color = 'pink' if station['cluster_number'] == 0 else 'blue' if station['cluster_number'] == 1 else 'red' if station['cluster_number'] == 2 else 'green' if station['cluster_number'] == 3 else 'orange'\n",
    "    folium.Marker([station.lat, station.lon], popup=str(station['station_name_roman']), icon=folium.Icon(color=color)).add_to(m)"
   ]
  },
  {
   "cell_type": "code",
   "execution_count": 5,
   "id": "a737755a-d613-4ddb-adf5-7cc0e9f91c3d",
   "metadata": {},
   "outputs": [],
   "source": [
    "for _, station in kansai_stations.iterrows():\n",
    "    color = 'pink' if station['cluster_number'] == 0 else 'blue' if station['cluster_number'] == 1 else 'red' if station['cluster_number'] == 2 else 'green' if station['cluster_number'] == 3 else 'orange'\n",
    "    folium.Marker([station.lat, station.lon], popup=str(station['station_name_roman']), icon=folium.Icon(color=color)).add_to(m)"
   ]
  },
  {
   "cell_type": "code",
   "execution_count": null,
   "id": "b405ce57-719b-4ec9-b8e1-406b856ee573",
   "metadata": {},
   "outputs": [],
   "source": [
    "m"
   ]
  },
  {
   "cell_type": "code",
   "execution_count": 8,
   "id": "26bd5338-dfae-4163-8cf8-5549be7f77d3",
   "metadata": {},
   "outputs": [],
   "source": [
    "m.save('area_use_all2.html') # 保存"
   ]
  },
  {
   "cell_type": "code",
   "execution_count": null,
   "id": "27d13cb1-e200-4f41-b874-842f2f023e2a",
   "metadata": {},
   "outputs": [],
   "source": []
  }
 ],
 "metadata": {
  "kernelspec": {
   "display_name": "Python 3",
   "language": "python",
   "name": "python3"
  },
  "language_info": {
   "codemirror_mode": {
    "name": "ipython",
    "version": 3
   },
   "file_extension": ".py",
   "mimetype": "text/x-python",
   "name": "python",
   "nbconvert_exporter": "python",
   "pygments_lexer": "ipython3",
   "version": "3.9.4"
  }
 },
 "nbformat": 4,
 "nbformat_minor": 5
}
